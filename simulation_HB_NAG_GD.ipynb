{
  "nbformat": 4,
  "nbformat_minor": 0,
  "metadata": {
    "colab": {
      "name": "simulation_HB_NAG_GD.ipynb",
      "provenance": [],
      "collapsed_sections": []
    },
    "kernelspec": {
      "name": "python3",
      "display_name": "Python 3"
    },
    "accelerator": "GPU"
  },
  "cells": [
    {
      "cell_type": "code",
      "metadata": {
        "id": "lk73xNp2L9p8",
        "outputId": "7970067e-a45a-402c-c1ef-5c9671d512f6",
        "colab": {
          "base_uri": "https://localhost:8080/",
          "height": 34
        }
      },
      "source": [
        "import torch\n",
        "import torch.nn as nn\n",
        "from torch.utils.data import DataLoader, TensorDataset\n",
        "import numpy as np\n",
        "import matplotlib.pyplot as plt\n",
        "import pickle\n",
        "from torchvision import transforms\n",
        "import torchvision\n",
        "import time\n",
        "device = torch.device('cuda' if torch.cuda.is_available() else 'cpu')\n",
        "print(device)\n",
        "path = '/content/drive/My Drive/optimizer/'"
      ],
      "execution_count": 60,
      "outputs": [
        {
          "output_type": "stream",
          "text": [
            "cuda\n"
          ],
          "name": "stdout"
        }
      ]
    },
    {
      "cell_type": "code",
      "metadata": {
        "id": "KvfMi-knS9Kk",
        "outputId": "506a2ad9-56b6-42c5-b293-fe78ceb9294a",
        "colab": {
          "base_uri": "https://localhost:8080/",
          "height": 54
        }
      },
      "source": [
        "from google.colab import drive\n",
        "drive.mount('/content/drive')"
      ],
      "execution_count": 61,
      "outputs": [
        {
          "output_type": "stream",
          "text": [
            "Drive already mounted at /content/drive; to attempt to forcibly remount, call drive.mount(\"/content/drive\", force_remount=True).\n"
          ],
          "name": "stdout"
        }
      ]
    },
    {
      "cell_type": "code",
      "metadata": {
        "id": "Ho-V7mF2tbJs"
      },
      "source": [
        "### DPLM\n",
        "import torch\n",
        "import torch.nn as nn\n",
        "from torch.utils.data import DataLoader, TensorDataset\n",
        "import numpy as np\n",
        "import matplotlib.pyplot as plt\n",
        "\n",
        "class TwoLayerMLP(nn.Module):\n",
        "    def __init__(self,nonlinear_dim,hidden_neuron):\n",
        "        super(TwoLayerMLP, self).__init__()\n",
        "        torch.manual_seed(218)\n",
        "        torch.cuda.manual_seed(218)\n",
        "        self.layers = nn.Sequential(\n",
        "        nn.Linear(nonlinear_dim, hidden_neuron),\n",
        "        nn.ReLU(),\n",
        "        nn.Linear(hidden_neuron, 1, bias=False),\n",
        "        )\n",
        "        with torch.no_grad():\n",
        "            self.layers[0].weight=nn.Parameter(nn.init.normal_(torch.empty(hidden_neuron, nonlinear_dim),0,1/hidden_neuron))\n",
        "            self.layers[2].weight=nn.Parameter(nn.init.uniform_(torch.empty(1,hidden_neuron),-1,1))\n",
        "\n",
        "    def forward(self, x2):\n",
        "        x = self.layers(x2)\n",
        "        return x"
      ],
      "execution_count": 62,
      "outputs": []
    },
    {
      "cell_type": "markdown",
      "metadata": {
        "id": "2_QC-PGkgcKn"
      },
      "source": [
        "# Dataset"
      ]
    },
    {
      "cell_type": "markdown",
      "metadata": {
        "id": "zGNZZhHcgjr8"
      },
      "source": [
        "## Mnist"
      ]
    },
    {
      "cell_type": "code",
      "metadata": {
        "id": "n-CG3X7-gd5y"
      },
      "source": [
        "# MNIST dataset \n",
        "train_dataset = torchvision.datasets.MNIST(root='../../data', \n",
        "                                          train=True, \n",
        "                                          transform=transforms.ToTensor(),  \n",
        "                                          download=True)\n",
        "\n",
        "test_dataset = torchvision.datasets.MNIST(root='../../data', \n",
        "                                          train=False, \n",
        "                                          transform=transforms.ToTensor())\n",
        "# sampler\n",
        "torch.manual_seed(218)\n",
        "sampler=torch.utils.data.SubsetRandomSampler(np.array(range(600)))\n",
        "# Data loader\n",
        "trainloader = torch.utils.data.DataLoader(dataset=train_dataset, \n",
        "                                          batch_size=len(train_dataset), \n",
        "                                          sampler=sampler)\n",
        "\n",
        "testloader = torch.utils.data.DataLoader(dataset=test_dataset, \n",
        "                                          batch_size=len(test_dataset), \n",
        "                                          shuffle=False)"
      ],
      "execution_count": 14,
      "outputs": []
    },
    {
      "cell_type": "markdown",
      "metadata": {
        "id": "K5Z7YIyhE_yC"
      },
      "source": [
        "#### small mnist"
      ]
    },
    {
      "cell_type": "code",
      "metadata": {
        "id": "VQM_ofrzE_EY"
      },
      "source": [
        "# MNIST dataset \n",
        "train_dataset = torchvision.datasets.MNIST(root='../../data', \n",
        "                                          train=True, \n",
        "                                          transform=transforms.ToTensor(),  \n",
        "                                          download=True)\n",
        "\n",
        "test_dataset = torchvision.datasets.MNIST(root='../../data', \n",
        "                                          train=False, \n",
        "                                          transform=transforms.ToTensor())\n",
        "# sampler\n",
        "torch.manual_seed(218)\n",
        "sampler=torch.utils.data.SubsetRandomSampler(np.array(range(60)))\n",
        "# Data loader\n",
        "trainloader = torch.utils.data.DataLoader(dataset=train_dataset, \n",
        "                                          batch_size=len(train_dataset), \n",
        "                                          sampler=sampler)\n",
        "\n",
        "testloader = torch.utils.data.DataLoader(dataset=test_dataset, \n",
        "                                          batch_size=len(test_dataset), \n",
        "                                          shuffle=False)"
      ],
      "execution_count": 63,
      "outputs": []
    },
    {
      "cell_type": "markdown",
      "metadata": {
        "id": "daocUh51gnqr"
      },
      "source": [
        "## Synthetic data"
      ]
    },
    {
      "cell_type": "code",
      "metadata": {
        "id": "jaTDzfQ4gl-I"
      },
      "source": [
        "y_train = training[1]\n",
        "X_train = training[0]\n",
        "\n",
        "y_test = testing[1]\n",
        "X_test = testing[0]\n",
        "\n",
        "\n",
        "if batch_size==None:\n",
        "    batch_size=y_train.shape[0]\n",
        "    \n",
        "Train_dataset = TensorDataset(y_train,X_train)\n",
        "trainloader = DataLoader(dataset=Train_dataset, batch_size=batch_size, shuffle=True)\n",
        "Test_dataset = TensorDataset(y_test,X_test)\n",
        "testloader = DataLoader(dataset=Test_dataset, batch_size=y_test.shape[0], shuffle=False)"
      ],
      "execution_count": null,
      "outputs": []
    },
    {
      "cell_type": "code",
      "metadata": {
        "id": "aUUKR2tNh0Ua"
      },
      "source": [
        "#%% 2 linear features, 1 non-linear feature, small sample size enough; more sample better\n",
        "\n",
        "n=50\n",
        "np.random.seed(1)\n",
        "\n",
        "x1 = np.random.randn(n,1)\n",
        "x2 = np.random.randn(n,1)\n",
        "x3 = np.linspace(-4,4,n).reshape(n,1)\n",
        "y = -x1*0.5+1.2*x2+np.sin(x3)*10\n",
        "X_train=torch.tensor(np.concatenate([x1,x2,x3],axis=1)).float()\n",
        "y_train=torch.tensor(y).float()\n",
        "train=[X_train,y_train]"
      ],
      "execution_count": null,
      "outputs": []
    },
    {
      "cell_type": "markdown",
      "metadata": {
        "id": "qw15I8-RF6ar"
      },
      "source": [
        "# Higher_SGD (new optimizer)"
      ]
    },
    {
      "cell_type": "code",
      "metadata": {
        "id": "OrVrAANNF-yX"
      },
      "source": [
        "import torch\n",
        "from torch.optim import Optimizer #, required\n",
        "\n",
        "\n",
        "class Higher_SGD(Optimizer):\n",
        "    r\"\"\"Implements stochastic gradient descent (optionally with momentum).\n",
        "    Nesterov momentum is based on the formula from\n",
        "    `On the importance of initialization and momentum in deep learning`__.\n",
        "    Args:\n",
        "        params (iterable): iterable of parameters to optimize or dicts defining\n",
        "            parameter groups\n",
        "        lr (float): learning rate\n",
        "        momentum (float, optional): momentum factor (default: 0)\n",
        "        weight_decay (float, optional): weight decay (L2 penalty) (default: 0)\n",
        "        dampening (float, optional): dampening for momentum (default: 0)\n",
        "        nesterov (bool, optional): enables Nesterov momentum (default: False)\n",
        "    Example:\n",
        "        >>> optimizer = torch.optim.SGD(model.parameters(), lr=0.1, momentum=0.9)\n",
        "        >>> optimizer.zero_grad()\n",
        "        >>> loss_fn(model(input), target).backward()\n",
        "        >>> optimizer.step()\n",
        "    __ http://www.cs.toronto.edu/%7Ehinton/absps/momentum.pdf\n",
        "    .. note::\n",
        "        The implementation of SGD with Momentum/Nesterov subtly differs from\n",
        "        Sutskever et. al. and implementations in some other frameworks.\n",
        "        Considering the specific case of Momentum, the update can be written as\n",
        "        .. math::\n",
        "            \\begin{aligned}\n",
        "                v_{t+1} & = \\mu * v_{t} + g_{t+1}, \\\\\n",
        "                p_{t+1} & = p_{t} - \\text{lr} * v_{t+1},\n",
        "            \\end{aligned}\n",
        "        where :math:`p`, :math:`g`, :math:`v` and :math:`\\mu` denote the \n",
        "        parameters, gradient, velocity, and momentum respectively.\n",
        "        This is in contrast to Sutskever et. al. and\n",
        "        other frameworks which employ an update of the form\n",
        "        .. math::\n",
        "            \\begin{aligned}\n",
        "                v_{t+1} & = \\mu * v_{t} + \\text{lr} * g_{t+1}, \\\\\n",
        "                p_{t+1} & = p_{t} - v_{t+1}.\n",
        "            \\end{aligned}\n",
        "        The Nesterov version is analogously modified.\n",
        "    \"\"\"\n",
        "\n",
        "    def __init__(self, params, lr, momentum=0,momentum2=0, dampening=0,\n",
        "                 weight_decay=0, nesterov=False):\n",
        "        # if lr is not required and lr < 0.0:\n",
        "            # raise ValueError(\"Invalid learning rate: {}\".format(lr))\n",
        "        if momentum < 0.0:\n",
        "            raise ValueError(\"Invalid momentum value: {}\".format(momentum))\n",
        "        if weight_decay < 0.0:\n",
        "            raise ValueError(\"Invalid weight_decay value: {}\".format(weight_decay))\n",
        "\n",
        "        defaults = dict(lr=lr, momentum=momentum,momentum2=momentum2, dampening=dampening,\n",
        "                        weight_decay=weight_decay, nesterov=nesterov)\n",
        "        if nesterov and (momentum <= 0 or dampening != 0):\n",
        "            raise ValueError(\"Nesterov momentum requires a momentum and zero dampening\")\n",
        "        super(Higher_SGD, self).__init__(params, defaults)\n",
        "\n",
        "    def __setstate__(self, state):\n",
        "        super(Higher_SGD, self).__setstate__(state)\n",
        "        for group in self.param_groups:\n",
        "            group.setdefault('nesterov', False)\n",
        "\n",
        "    @torch.no_grad()\n",
        "    def step(self, closure=None):\n",
        "        \"\"\"Performs a single optimization step.\n",
        "        Arguments:\n",
        "            closure (callable, optional): A closure that reevaluates the model\n",
        "                and returns the loss.\n",
        "        \"\"\"\n",
        "        loss = None\n",
        "        if closure is not None:\n",
        "            with torch.enable_grad():\n",
        "                loss = closure()\n",
        "\n",
        "        for group in self.param_groups:\n",
        "            weight_decay = group['weight_decay']\n",
        "            momentum = group['momentum']\n",
        "            momentum2 = group['momentum2']\n",
        "            dampening = group['dampening']\n",
        "            nesterov = group['nesterov']\n",
        "            a = 1/2*(momentum+np.sqrt(momentum**2+4*momentum2))\n",
        "            b = 1/2*(momentum-np.sqrt(momentum**2+4*momentum2))\n",
        "            for p in group['params']:\n",
        "                if p.grad is None:\n",
        "                    continue\n",
        "                d_p = p.grad\n",
        "                if weight_decay != 0:\n",
        "                    d_p = d_p.add(p, alpha=weight_decay)\n",
        "                if momentum != 0:\n",
        "                    param_state = self.state[p]\n",
        "                    if 'momentum_buffer_q' not in param_state:\n",
        "                        buf_q = param_state['momentum_buffer_q'] = torch.clone(d_p*0).detach()\n",
        "                    else:\n",
        "                        buf_q = param_state['momentum_buffer_q']\n",
        "                        buf_q.mul_(b).add_(d_p, alpha=1)\n",
        "                    if 'momentum_buffer' not in param_state:\n",
        "                        buf = param_state['momentum_buffer'] = torch.clone(d_p).detach()\n",
        "                    else:\n",
        "                        buf = param_state['momentum_buffer']\n",
        "                        buf.mul_(a).add_(buf_q, alpha=1)\n",
        "                    if nesterov:\n",
        "                        d_p = d_p.add(buf, alpha=momentum)\n",
        "                    else:\n",
        "                        d_p = buf\n",
        "\n",
        "                p.add_(d_p, alpha=-group['lr'])\n",
        "\n",
        "        return loss"
      ],
      "execution_count": 15,
      "outputs": []
    },
    {
      "cell_type": "markdown",
      "metadata": {
        "id": "rB80MHhl96Fd"
      },
      "source": [
        "# Training"
      ]
    },
    {
      "cell_type": "code",
      "metadata": {
        "id": "jktd4E1xvfQi"
      },
      "source": [
        "def NTK_torch(opt_name,\n",
        "              hidden_neuron=100,epochs=10,lr=1e-3,\n",
        "              batch_size=None,nesterov_r=None, momentum=None, momentum2=None, \n",
        "              save=False, trainloader=trainloader, testloader=testloader):\n",
        "  \n",
        "    loss_record=[]\n",
        "    torch.manual_seed(218)\n",
        "    torch.cuda.manual_seed(218)\n",
        "\n",
        "    model = TwoLayerMLP(28*28, hidden_neuron).to(device) #X_train.shape[1]\n",
        "\n",
        "    if 'nesterov' in opt_name:\n",
        "        print('Training with nesterov')\n",
        "        optimizer = torch.optim.SGD(model.parameters(), lr=lr,\n",
        "                                    nesterov=True,momentum = nesterov_r)\n",
        "    elif 'heavyball' in opt_name:\n",
        "        print('Training with heavyball')\n",
        "        optimizer = torch.optim.SGD(model.parameters(), lr=lr,\n",
        "                                    momentum = momentum)\n",
        "    elif 'higherm' in opt_name:\n",
        "        print('Training with higher momentum')\n",
        "        optimizer = Higher_SGD(model.parameters(),lr = lr, \n",
        "                          momentum=momentum, momentum2=momentum2)\n",
        "    else:\n",
        "        print('Training with GD')\n",
        "        optimizer = torch.optim.SGD(model.parameters(), lr=lr)\n",
        "\n",
        "    criterion = nn.MSELoss()\n",
        "    # old_val_error=1e12\n",
        "    # patience_current=0\n",
        "\n",
        "    for epoch in range(1,epochs+1):\n",
        "        if nesterov_r!=None:\n",
        "            for param_group in optimizer.param_groups:\n",
        "                param_group['momentum'] = (epoch-1)/(epoch+nesterov_r-1)\n",
        "\n",
        "        for batch_x,batch_y in trainloader:\n",
        "            optimizer.zero_grad()\n",
        "            batch_x = batch_x.view(-1, 28*28).float().to(device)\n",
        "            batch_y = batch_y.view(-1, 1).float().to(device)\n",
        "            batch_y_pred = model(batch_x)\n",
        "            batch_loss = criterion(batch_y_pred, batch_y) #batch_y_pred, batch_y.reshape(-1, 1)\n",
        "            batch_loss.backward()\n",
        "            optimizer.step()\n",
        "        if epoch%1000==0:\n",
        "            print(epoch, '---', batch_loss.cpu().detach().numpy())\n",
        "        loss_record.append(batch_loss.cpu().detach().numpy())\n",
        "        # with torch.no_grad():\n",
        "        #     for test_x,test_y in testloader:\n",
        "        #         test_x = test_x.view(-1, 28*28).float().to(device)\n",
        "        #         test_y = test_y.view(-1, 1).float().to(device)\n",
        "        #         test_y_pred = model(test_x)\n",
        "        #         val_loss = criterion(test_y_pred, test_y)\n",
        "                # print(epoch, '---', val_loss.numpy())\n",
        "                # loss_record.append(val_loss.numpy())\n",
        "    \n",
        "        if save == True:\n",
        "            path = '/content/drive/My Drive/optimizer/'\n",
        "            torch.save(loss_record, path+f\"{lr}\"+f\"{opt_name}.pt\")\n",
        "            #print(\"save successfully!\")\n",
        "      \n",
        "    return loss_record"
      ],
      "execution_count": 69,
      "outputs": []
    },
    {
      "cell_type": "markdown",
      "metadata": {
        "id": "3GpSedDGcB7-"
      },
      "source": [
        "## Gradient Descent (GD)"
      ]
    },
    {
      "cell_type": "code",
      "metadata": {
        "id": "9z34YzSIcJa4",
        "outputId": "61c66abd-653b-42f9-b17f-8f64c8383922",
        "colab": {
          "base_uri": "https://localhost:8080/",
          "height": 884
        }
      },
      "source": [
        "import time\n",
        "torch.manual_seed(1)\n",
        "gd_loss=NTK_torch(opt_name='gd', hidden_neuron=3000,epochs=5000,lr=1e-4,save=True)\n",
        "print('time spent: ', time.time()-start)"
      ],
      "execution_count": 20,
      "outputs": [
        {
          "output_type": "stream",
          "text": [
            "Training with GD\n",
            "100 --- 2.2234924\n",
            "200 --- 1.6855325\n",
            "300 --- 1.360984\n",
            "400 --- 1.1410167\n",
            "500 --- 0.979374\n",
            "600 --- 0.85582834\n",
            "700 --- 0.75786716\n",
            "800 --- 0.67798984\n",
            "900 --- 0.61157966\n",
            "1000 --- 0.5551818\n",
            "1100 --- 0.5068956\n",
            "1200 --- 0.46497875\n",
            "1300 --- 0.4281652\n",
            "1400 --- 0.39561322\n",
            "1500 --- 0.36669892\n",
            "1600 --- 0.3409455\n",
            "1700 --- 0.31779987\n",
            "1800 --- 0.29689628\n",
            "1900 --- 0.27794072\n",
            "2000 --- 0.2607047\n",
            "2100 --- 0.24497381\n",
            "2200 --- 0.23058589\n",
            "2300 --- 0.2173759\n",
            "2400 --- 0.205228\n",
            "2500 --- 0.19396512\n",
            "2600 --- 0.18355498\n",
            "2700 --- 0.17389794\n",
            "2800 --- 0.1649143\n",
            "2900 --- 0.15655318\n",
            "3000 --- 0.14878424\n",
            "3100 --- 0.1415073\n",
            "3200 --- 0.13471504\n",
            "3300 --- 0.1283311\n",
            "3400 --- 0.122349195\n",
            "3500 --- 0.11674694\n",
            "3600 --- 0.11146513\n",
            "3700 --- 0.10651656\n",
            "3800 --- 0.10185198\n",
            "3900 --- 0.09743811\n",
            "4000 --- 0.09328677\n",
            "4100 --- 0.08936261\n",
            "4200 --- 0.08563365\n",
            "4300 --- 0.082116306\n",
            "4400 --- 0.078792\n",
            "4500 --- 0.07562423\n",
            "4600 --- 0.072627984\n",
            "4700 --- 0.0697774\n",
            "4800 --- 0.067068525\n",
            "4900 --- 0.06448632\n",
            "5000 --- 0.062027577\n"
          ],
          "name": "stdout"
        }
      ]
    },
    {
      "cell_type": "markdown",
      "metadata": {
        "id": "XmzW39A1-AVW"
      },
      "source": [
        "## Heavy ball (HB)"
      ]
    },
    {
      "cell_type": "markdown",
      "metadata": {
        "id": "PGiQxOl-yFKD"
      },
      "source": [
        "### HB v.s width"
      ]
    },
    {
      "cell_type": "code",
      "metadata": {
        "id": "3dx6FQYrwLLz",
        "outputId": "a65656c0-4e83-4994-d3dd-99553de4ebd7",
        "colab": {
          "base_uri": "https://localhost:8080/",
          "height": 1000
        }
      },
      "source": [
        "start = time.time()\n",
        "momentum_list = [0,0.6,0.9] #0 is 5500; 0.6 is 4500; 0.9 is 3500\n",
        "width_list = np.arange(2000,8500,500)\n",
        "\n",
        "hb_loss = np.ones(((len(momentum_list), len(width_list))))\n",
        "for i in range(len(momentum_list)):\n",
        "    for j in range(len(width_list)):\n",
        "        temp = NTK_torch(opt_name='heavyball_'+str(momentum_list[i]), \n",
        "                         hidden_neuron=width_list[j],epochs=200,lr=5e-5,\n",
        "                         momentum = momentum_list[i])\n",
        "        print(momentum_list[i], width_list[j], temp[-1])\n",
        "        hb_loss[i, j] = temp[-1]\n",
        "\n",
        "path = '/content/drive/My Drive/optimizer/'\n",
        "torch.save(hb_loss, path+f\"{'hb_total_width'}.pt\")\n",
        "\n",
        "print('time spent: ', time.time()-start)\n"
      ],
      "execution_count": 179,
      "outputs": [
        {
          "output_type": "stream",
          "text": [
            "Training with heavyball\n",
            "100 --- 2.7269366\n",
            "200 --- 2.195019\n",
            "0 2000 2.195019\n",
            "Training with heavyball\n",
            "100 --- 2.6287277\n",
            "200 --- 2.1045213\n",
            "0 2500 2.1045213\n",
            "Training with heavyball\n",
            "100 --- 2.565497\n",
            "200 --- 2.0404272\n",
            "0 3000 2.0404272\n",
            "Training with heavyball\n",
            "100 --- 2.4964576\n",
            "200 --- 1.9850847\n",
            "0 3500 1.9850847\n",
            "Training with heavyball\n",
            "100 --- 2.397992\n",
            "200 --- 1.8996814\n",
            "0 4000 1.8996814\n",
            "Training with heavyball\n",
            "100 --- 2.3258305\n",
            "200 --- 1.8242241\n",
            "0 4500 1.8242241\n",
            "Training with heavyball\n",
            "100 --- 2.3061287\n",
            "200 --- 1.8059024\n",
            "0 5000 1.8059024\n",
            "Training with heavyball\n",
            "100 --- 2.2477913\n",
            "200 --- 1.7468506\n",
            "0 5500 1.7468506\n",
            "Training with heavyball\n",
            "100 --- 2.2706778\n",
            "200 --- 1.7487049\n",
            "0 6000 1.7487049\n",
            "Training with heavyball\n",
            "100 --- 2.2755368\n",
            "200 --- 1.749634\n",
            "0 6500 1.749634\n",
            "Training with heavyball\n",
            "100 --- 2.3556733\n",
            "200 --- 1.8361844\n",
            "0 7000 1.8361844\n",
            "Training with heavyball\n",
            "100 --- 2.4592257\n",
            "200 --- 1.9426382\n",
            "0 7500 1.9426382\n",
            "Training with heavyball\n",
            "100 --- 2.7000272\n",
            "200 --- 2.1390553\n",
            "0 8000 2.1390553\n",
            "Training with heavyball\n",
            "100 --- 2.1757898\n",
            "200 --- 1.6006906\n",
            "0.6 2000 1.6006906\n",
            "Training with heavyball\n",
            "100 --- 2.0429974\n",
            "200 --- 1.485051\n",
            "0.6 2500 1.485051\n",
            "Training with heavyball\n",
            "100 --- 1.9772693\n",
            "200 --- 1.438759\n",
            "0.6 3000 1.438759\n",
            "Training with heavyball\n",
            "100 --- 1.9570744\n",
            "200 --- 1.4316329\n",
            "0.6 3500 1.4316329\n",
            "Training with heavyball\n",
            "100 --- 1.8473576\n",
            "200 --- 1.3469146\n",
            "0.6 4000 1.3469146\n",
            "Training with heavyball\n",
            "100 --- 1.7524142\n",
            "200 --- 1.2599878\n",
            "0.6 4500 1.2599878\n",
            "Training with heavyball\n",
            "100 --- 1.7670189\n",
            "200 --- 1.2935319\n",
            "0.6 5000 1.2935319\n",
            "Training with heavyball\n",
            "100 --- 1.764701\n",
            "200 --- 1.2842704\n",
            "0.6 5500 1.2842704\n",
            "Training with heavyball\n",
            "100 --- 1.87155\n",
            "200 --- 1.3704952\n",
            "0.6 6000 1.3704952\n",
            "Training with heavyball\n",
            "100 --- 1.9384284\n",
            "200 --- 1.4430207\n",
            "0.6 6500 1.4430207\n",
            "Training with heavyball\n",
            "100 --- 1.9254216\n",
            "200 --- 1.4339505\n",
            "0.6 7000 1.4339505\n",
            "Training with heavyball\n",
            "100 --- 1.8737547\n",
            "200 --- 1.3768139\n",
            "0.6 7500 1.3768139\n",
            "Training with heavyball\n",
            "100 --- 2.421781\n",
            "200 --- 1.9377584\n",
            "0.6 8000 1.9377584\n",
            "Training with heavyball\n",
            "100 --- 1.4915872\n",
            "200 --- 0.9002468\n",
            "0.9 2000 0.9002468\n",
            "Training with heavyball\n",
            "100 --- 1.3844402\n",
            "200 --- 0.8478645\n",
            "0.9 2500 0.8478645\n",
            "Training with heavyball\n",
            "100 --- 1.3076733\n",
            "200 --- 0.80705875\n",
            "0.9 3000 0.80705875\n",
            "Training with heavyball\n",
            "100 --- 1.2550037\n",
            "200 --- 0.7498425\n",
            "0.9 3500 0.7498425\n",
            "Training with heavyball\n",
            "100 --- 1.2713099\n",
            "200 --- 0.78397095\n",
            "0.9 4000 0.78397095\n",
            "Training with heavyball\n",
            "100 --- 1.2417208\n",
            "200 --- 0.76297826\n",
            "0.9 4500 0.76297826\n",
            "Training with heavyball\n",
            "100 --- 1.3457445\n",
            "200 --- 0.9056841\n",
            "0.9 5000 0.9056841\n",
            "Training with heavyball\n",
            "100 --- 1.3415955\n",
            "200 --- 0.9075012\n",
            "0.9 5500 0.9075012\n",
            "Training with heavyball\n",
            "100 --- 1.3983378\n",
            "200 --- 0.95623213\n",
            "0.9 6000 0.95623213\n",
            "Training with heavyball\n",
            "100 --- 1.3981588\n",
            "200 --- 0.9566529\n",
            "0.9 6500 0.9566529\n",
            "Training with heavyball\n",
            "100 --- 1.5232303\n",
            "200 --- 1.0716109\n",
            "0.9 7000 1.0716109\n",
            "Training with heavyball\n",
            "100 --- 1.6062795\n",
            "200 --- 1.0951848\n",
            "0.9 7500 1.0951848\n",
            "Training with heavyball\n",
            "100 --- 2.1067696\n",
            "200 --- 1.4940516\n",
            "0.9 8000 1.4940516\n",
            "time spent:  328.25197434425354\n"
          ],
          "name": "stdout"
        }
      ]
    },
    {
      "cell_type": "code",
      "metadata": {
        "id": "n6wvEBt40MoM",
        "outputId": "0953d266-cc09-4ec0-851d-0f7222d8aaf1",
        "colab": {
          "base_uri": "https://localhost:8080/",
          "height": 288
        }
      },
      "source": [
        "#%%\n",
        "hb_loss_total = torch.load(path+f\"{'hb_total_width'}.pt\")\n",
        "# plt.xscale('log')\n",
        "momentum_list = [0,0.6,0.9]\n",
        "width_list = np.arange(2000,8500,500)\n",
        "# markers_on = [j==3000 for j in y]\n",
        "\n",
        "\n",
        "for i in range(len(momentum_list)):\n",
        "    np.argmin(hb_loss_total[i, :])\n",
        "    plt.plot(width_list, hb_loss_total[i, :], \n",
        "             'o', ls='-', ms=4,\n",
        "             label = r'$\\beta=$'+str(momentum_list[i]),\n",
        "             markevery=[j==width_list[np.argmin(hb_loss_total[i, :])] for j in width_list])\n",
        "plt.xlabel('Width of hidden layer', fontsize=16)\n",
        "plt.ylabel('Loss at epoch 200', fontsize=16)\n",
        "# plt.xlim(8e-5, 1e-4)\n",
        "plt.ylim(0.5,3.5)\n",
        "plt.legend(fontsize=12)\n",
        "plt.savefig(path+'HB_Width.pdf', bbox_inches = 'tight')\n",
        "plt.show() "
      ],
      "execution_count": 57,
      "outputs": [
        {
          "output_type": "display_data",
          "data": {
            "image/png": "[encoded data removed]",
            "text/plain": [
              "<Figure size 432x288 with 1 Axes>"
            ]
          },
          "metadata": {
            "tags": [],
            "needs_background": "light"
          }
        }
      ]
    },
    {
      "cell_type": "markdown",
      "metadata": {
        "id": "Va5SNZys70F4"
      },
      "source": [
        "### HB v.s epoch"
      ]
    },
    {
      "cell_type": "code",
      "metadata": {
        "id": "i1i5uX8L72GN",
        "outputId": "699639aa-0985-44c7-f18e-449859eb699a",
        "colab": {
          "base_uri": "https://localhost:8080/",
          "height": 901
        }
      },
      "source": [
        "import time\n",
        "start = time.time()\n",
        "hb_loss0=NTK_torch(opt_name='heavyball_2', hidden_neuron=3000,epochs=5000,lr=1e-4,momentum=0.2, save=True)\n",
        "hb_loss1=NTK_torch(opt_name='heavyball_5', hidden_neuron=3000,epochs=5000,lr=1e-4,momentum=0.5, save=True)\n",
        "hb_loss2=NTK_torch(opt_name='heavyball_8', hidden_neuron=3000,epochs=5000,lr=1e-4,momentum=0.8, save=True)\n",
        "print('time spent: ', time.time()-start)"
      ],
      "execution_count": 32,
      "outputs": [
        {
          "output_type": "stream",
          "text": [
            "Training with heavyball\n",
            "1 --- 30.273016\n",
            "2 --- 747870.6\n",
            "3 --- 43.24715\n",
            "4 --- 20.301891\n",
            "5 --- 11.818008\n",
            "6 --- 9.175101\n",
            "7 --- 8.752445\n",
            "8 --- 8.128268\n",
            "9 --- 7.661182\n",
            "10 --- 7.2237663\n",
            "11 --- 6.824565\n",
            "12 --- 6.457968\n",
            "13 --- 6.123602\n",
            "14 --- 5.8213673\n",
            "15 --- 5.5512424\n",
            "16 --- 5.3128996\n",
            "17 --- 5.1054764\n",
            "18 --- 4.927359\n",
            "19 --- 4.7755537\n",
            "20 --- 4.6465807\n",
            "21 --- 4.5369563\n",
            "22 --- 4.443264\n",
            "23 --- 4.3623734\n",
            "24 --- 4.291888\n",
            "25 --- 4.2297378\n",
            "26 --- 4.174005\n",
            "27 --- 4.1235833\n",
            "28 --- 4.0773783\n",
            "29 --- 4.0344896\n",
            "30 --- 3.9940686\n",
            "31 --- 3.9559019\n",
            "32 --- 3.9195957\n",
            "33 --- 3.8847413\n",
            "34 --- 3.8509343\n",
            "35 --- 3.8184078\n",
            "36 --- 3.7870903\n",
            "37 --- 3.7568438\n",
            "38 --- 3.727588\n",
            "39 --- 3.699281\n",
            "40 --- 3.6718605\n",
            "41 --- 3.6452324\n",
            "42 --- 3.619346\n",
            "43 --- 3.5942383\n",
            "44 --- 3.569838\n",
            "45 --- 3.5461524\n",
            "46 --- 3.5231557\n",
            "47 --- 3.5008175\n",
            "48 --- 3.4790912\n",
            "49 --- 3.4579258\n",
            "50 --- 3.4373307\n",
            "time spent:  2.2765257358551025\n"
          ],
          "name": "stdout"
        }
      ]
    },
    {
      "cell_type": "code",
      "metadata": {
        "id": "uO3Tu-z3EpWF"
      },
      "source": [
        "hb_loss0 = torch.load(path+f\"{'0.0001heavyball_2'}.pt\")\n",
        "hb_loss1 = torch.load(path+f\"{'0.0001heavyball_5'}.pt\")\n",
        "hb_loss2 = torch.load(path+f\"{'0.0001heavyball_8'}.pt\")\n",
        "gd_loss = torch.load(path+f\"{'0.0001gd'}.pt\")"
      ],
      "execution_count": 26,
      "outputs": []
    },
    {
      "cell_type": "code",
      "metadata": {
        "id": "rsBpJrO6Us46",
        "outputId": "c25eccf0-e786-4dfb-ee17-3baaad76b9ff",
        "colab": {
          "base_uri": "https://localhost:8080/",
          "height": 284
        }
      },
      "source": [
        "#%%\n",
        "plt.yscale('log')\n",
        "plt.plot(gd_loss, label=r'$\\beta=0$ (GD)') \n",
        "plt.plot(hb_loss0, label=r'$\\beta=0.2$') #HB02\n",
        "plt.plot(hb_loss1, label=r'$\\beta=0.5$') #HB05\n",
        "plt.plot(hb_loss2, label=r'$\\beta=0.8$') #HB08\n",
        "plt.xlabel('Epoch', fontsize=16)\n",
        "plt.ylabel('Log MSE', fontsize=16)\n",
        "plt.legend(fontsize=12)\n",
        "plt.savefig(path+'HB_Epoch.pdf', bbox_inches = 'tight')\n",
        "plt.show()"
      ],
      "execution_count": 56,
      "outputs": [
        {
          "output_type": "display_data",
          "data": {
            "image/png": "[encoded data removed]",
            "text/plain": [
              "<Figure size 432x288 with 1 Axes>"
            ]
          },
          "metadata": {
            "tags": [],
            "needs_background": "light"
          }
        }
      ]
    },
    {
      "cell_type": "code",
      "metadata": {
        "id": "spPH-lbglW-7",
        "outputId": "939b6dc2-4acd-4e60-f5db-c34c55050588",
        "colab": {
          "base_uri": "https://localhost:8080/"
        }
      },
      "source": [
        "print((np.log(hb_loss0[999])-np.log(hb_loss0[990]))/9)\n",
        "print((np.log(hb_loss1[99])-np.log(hb_loss1[90]))/9)\n",
        "print((np.log(hb_loss2[99])-np.log(hb_loss2[90]))/9)"
      ],
      "execution_count": null,
      "outputs": [
        {
          "output_type": "stream",
          "text": [
            "-0.0007571511798434787\n",
            "-0.0020769304699367946\n",
            "-0.002375748422410753\n"
          ],
          "name": "stdout"
        }
      ]
    },
    {
      "cell_type": "markdown",
      "metadata": {
        "id": "BQBwNBtL-K9_"
      },
      "source": [
        "## Nesterov (NAG)"
      ]
    },
    {
      "cell_type": "markdown",
      "metadata": {
        "id": "vZcUaDJ1cQS3"
      },
      "source": [
        "### NAG v.s width"
      ]
    },
    {
      "cell_type": "code",
      "metadata": {
        "id": "aNb8ZZOrgF83",
        "outputId": "f670bf1c-fd0e-4967-a8b4-adbf8e35c154",
        "colab": {
          "base_uri": "https://localhost:8080/",
          "height": 1000
        }
      },
      "source": [
        "start = time.time()\n",
        "nesterov_r_list = [2, 4, 10] \n",
        "width_list = np.arange(1000,9000,1000)\n",
        "\n",
        "nag_loss = np.ones(((len(nesterov_r_list), len(width_list))))\n",
        "for i in range(len(nesterov_r_list)):\n",
        "    for j in range(len(width_list)):\n",
        "        temp = NTK_torch(opt_name='nesterov_'+str(nesterov_r_list[i]), \n",
        "                         hidden_neuron=width_list[j],epochs=200,lr=5e-5,\n",
        "                         nesterov_r = nesterov_r_list[i])\n",
        "        print(nesterov_r_list[i], width_list[j], temp[-1])\n",
        "        nag_loss[i, j] = temp[-1]\n",
        "\n",
        "path = '/content/drive/My Drive/optimizer/'\n",
        "torch.save(nag_loss, path+f\"{'nag_total_width'}.pt\")\n",
        "\n",
        "print('time spent: ', time.time()-start)"
      ],
      "execution_count": 36,
      "outputs": [
        {
          "output_type": "stream",
          "text": [
            "Training with nesterov\n",
            "100 --- 0.73903596\n",
            "200 --- 0.15333293\n",
            "2 1000 0.15333293\n",
            "Training with nesterov\n",
            "100 --- 0.5192177\n",
            "200 --- 0.07875845\n",
            "2 2000 0.07875845\n",
            "Training with nesterov\n",
            "100 --- 0.50988203\n",
            "200 --- 0.08616899\n",
            "2 3000 0.08616899\n",
            "Training with nesterov\n",
            "100 --- 0.6721844\n",
            "200 --- 0.14073375\n",
            "2 4000 0.14073375\n",
            "Training with nesterov\n",
            "100 --- 0.78756124\n",
            "200 --- 0.19753247\n",
            "2 5000 0.19753247\n",
            "Training with nesterov\n",
            "100 --- 1.1581777\n",
            "200 --- 0.35958952\n",
            "2 6000 0.35958952\n",
            "Training with nesterov\n",
            "100 --- 1.4670346\n",
            "200 --- 0.50214934\n",
            "2 7000 0.50214934\n",
            "Training with nesterov\n",
            "100 --- 1.8466269\n",
            "200 --- 0.6458996\n",
            "2 8000 0.6458996\n",
            "Training with nesterov\n",
            "100 --- 1.0605901\n",
            "200 --- 0.28961346\n",
            "4 1000 0.28961346\n",
            "Training with nesterov\n",
            "100 --- 0.7875356\n",
            "200 --- 0.16924368\n",
            "4 2000 0.16924368\n",
            "Training with nesterov\n",
            "100 --- 0.71644354\n",
            "200 --- 0.16070233\n",
            "4 3000 0.16070233\n",
            "Training with nesterov\n",
            "100 --- 0.7962705\n",
            "200 --- 0.1968167\n",
            "4 4000 0.1968167\n",
            "Training with nesterov\n",
            "100 --- 0.8003726\n",
            "200 --- 0.18525676\n",
            "4 5000 0.18525676\n",
            "Training with nesterov\n",
            "100 --- 1.0166988\n",
            "200 --- 0.26226252\n",
            "4 6000 0.26226252\n",
            "Training with nesterov\n",
            "100 --- 1.2715416\n",
            "200 --- 0.37368405\n",
            "4 7000 0.37368405\n",
            "Training with nesterov\n",
            "100 --- 1.6086591\n",
            "200 --- 0.5268667\n",
            "4 8000 0.5268667\n",
            "Training with nesterov\n",
            "100 --- 1.647357\n",
            "200 --- 0.65400964\n",
            "10 1000 0.65400964\n",
            "Training with nesterov\n",
            "100 --- 1.3318734\n",
            "200 --- 0.45023388\n",
            "10 2000 0.45023388\n",
            "Training with nesterov\n",
            "100 --- 1.1936263\n",
            "200 --- 0.40623957\n",
            "10 3000 0.40623957\n",
            "Training with nesterov\n",
            "100 --- 2.1512382\n",
            "200 --- 0.65550953\n",
            "10 4000 0.65550953\n",
            "Training with nesterov\n",
            "100 --- 1.1061845\n",
            "200 --- 0.37171134\n",
            "10 5000 0.37171134\n",
            "Training with nesterov\n",
            "100 --- 1.1824821\n",
            "200 --- 0.38352805\n",
            "10 6000 0.38352805\n",
            "Training with nesterov\n",
            "100 --- 1.3799766\n",
            "200 --- 0.48098975\n",
            "10 7000 0.48098975\n",
            "Training with nesterov\n",
            "100 --- 1.6891352\n",
            "200 --- 0.69612914\n",
            "10 8000 0.69612914\n",
            "time spent:  213.0535056591034\n"
          ],
          "name": "stdout"
        }
      ]
    },
    {
      "cell_type": "code",
      "metadata": {
        "id": "pSRK8VNZky14",
        "outputId": "8c053907-f634-4e00-de0b-9f38ccaee93b",
        "colab": {
          "base_uri": "https://localhost:8080/",
          "height": 288
        }
      },
      "source": [
        "#%%\n",
        "# nag_loss_total = nag_loss\n",
        "nag_loss_total = torch.load(path+f\"{'nag_total_width'}.pt\")\n",
        "# plt.xscale('log')\n",
        "# nesterov_r_list = [2, 6, 9]\n",
        "# width_list = np.arange(1000,8500,500)\n",
        "# markers_on = [j==3000 for j in y]\n",
        "\n",
        "plt.figure(figsize=(6,4))\n",
        "for i in range(len(nesterov_r_list)):\n",
        "    np.argmin(nag_loss_total[i, :])\n",
        "    plt.plot(width_list, nag_loss_total[i, :], \n",
        "             'o', ls='-', ms=4,\n",
        "             label = r'd='+str(nesterov_r_list[i]),\n",
        "             markevery=[j==width_list[np.argmin(nag_loss_total[i, :])] for j in width_list])\n",
        "plt.xlabel('Width of hidden layer', fontsize=16)\n",
        "plt.ylabel('Loss at epoch 200', fontsize=16)\n",
        "# plt.xlim(8e-5, 1e-4)\n",
        "plt.ylim(0,1.2)\n",
        "plt.legend(fontsize=12)\n",
        "plt.savefig(path+'NAG_Width.pdf', bbox_inches = 'tight')\n",
        "plt.show() "
      ],
      "execution_count": 55,
      "outputs": [
        {
          "output_type": "display_data",
          "data": {
            "image/png": "[encoded data removed]",
            "text/plain": [
              "<Figure size 432x288 with 1 Axes>"
            ]
          },
          "metadata": {
            "tags": [],
            "needs_background": "light"
          }
        }
      ]
    },
    {
      "cell_type": "markdown",
      "metadata": {
        "id": "CseYbLGGcNJY"
      },
      "source": [
        "### NAG v.s epoch"
      ]
    },
    {
      "cell_type": "code",
      "metadata": {
        "id": "GzVdmdRz-Mon",
        "outputId": "ada292f3-3244-46db-87ff-d3e3d87dedfd",
        "colab": {
          "base_uri": "https://localhost:8080/",
          "height": 1000
        }
      },
      "source": [
        "import time\n",
        "start = time.time()\n",
        "torch.manual_seed(1)\n",
        "nag_loss0=NTK_torch(opt_name='nesterov_2',hidden_neuron=3000,epochs=5000,lr=1e-4,nesterov_r=2, save=True)\n",
        "nag_loss1=NTK_torch(opt_name='nesterov_3',hidden_neuron=3000,epochs=5000,lr=1e-4,nesterov_r=3, save=True)\n",
        "nag_loss2=NTK_torch(opt_name='nesterov_6',hidden_neuron=3000,epochs=5000,lr=1e-4,nesterov_r=6, save=True)\n",
        "nag_loss3=NTK_torch(opt_name='nesterov_8',hidden_neuron=3000,epochs=5000,lr=1e-4,nesterov_r=8, save=True)\n",
        "print('time spent: ', time.time()-start)"
      ],
      "execution_count": 65,
      "outputs": [
        {
          "output_type": "stream",
          "text": [
            "Training with nesterov\n",
            "100 --- 0.73417777\n",
            "200 --- 0.13559385\n",
            "300 --- 0.03135373\n",
            "400 --- 0.00924726\n",
            "500 --- 0.004154823\n",
            "600 --- 0.0019290829\n",
            "700 --- 0.0011561925\n",
            "800 --- 0.00069377257\n",
            "900 --- 0.000484411\n",
            "1000 --- 0.0003015469\n",
            "1100 --- 0.00024409831\n",
            "1200 --- 0.00016220285\n",
            "1300 --- 0.00012714237\n",
            "1400 --- 0.0001011581\n",
            "1500 --- 8.531052e-05\n",
            "1600 --- 6.5483975e-05\n",
            "1700 --- 5.381722e-05\n",
            "1800 --- 4.3990265e-05\n",
            "1900 --- 3.754162e-05\n",
            "2000 --- 2.8382954e-05\n",
            "2100 --- 2.6651385e-05\n",
            "2200 --- 2.0757057e-05\n",
            "2300 --- 1.8677985e-05\n",
            "2400 --- 1.7051281e-05\n",
            "2500 --- 1.4198355e-05\n",
            "2600 --- 1.3354778e-05\n",
            "2700 --- 1.1972944e-05\n",
            "2800 --- 9.133054e-06\n",
            "2900 --- 9.12547e-06\n",
            "3000 --- 8.359375e-06\n",
            "3100 --- 7.2333155e-06\n",
            "3200 --- 6.4389187e-06\n",
            "3300 --- 6.0002367e-06\n",
            "3400 --- 4.7518142e-06\n",
            "3500 --- 5.031904e-06\n",
            "3600 --- 4.209608e-06\n",
            "3700 --- 4.026169e-06\n",
            "3800 --- 3.5228109e-06\n",
            "3900 --- 3.587686e-06\n",
            "4000 --- 3.0131873e-06\n",
            "4100 --- 2.8236443e-06\n",
            "4200 --- 2.6465289e-06\n",
            "4300 --- 2.4006451e-06\n",
            "4400 --- 2.243491e-06\n",
            "4500 --- 2.103297e-06\n",
            "4600 --- 1.9867928e-06\n",
            "4700 --- 1.6847413e-06\n",
            "4800 --- 1.6905692e-06\n",
            "4900 --- 1.4435909e-06\n",
            "5000 --- 1.5167765e-06\n",
            "Training with nesterov\n",
            "100 --- 0.68040305\n",
            "200 --- 0.11464277\n",
            "300 --- 0.020842833\n",
            "400 --- 0.0050240825\n",
            "500 --- 0.0015363523\n",
            "600 --- 0.0006323611\n",
            "700 --- 0.00029021312\n",
            "800 --- 0.00013537188\n",
            "900 --- 7.989897e-05\n",
            "1000 --- 4.6010464e-05\n",
            "1100 --- 3.2094627e-05\n",
            "1200 --- 2.2874297e-05\n",
            "1300 --- 1.5264883e-05\n",
            "1400 --- 1.2192795e-05\n",
            "1500 --- 8.612597e-06\n",
            "1600 --- 6.5697086e-06\n",
            "1700 --- 4.7931676e-06\n",
            "1800 --- 3.970954e-06\n",
            "1900 --- 3.2422188e-06\n",
            "2000 --- 2.5595496e-06\n",
            "2100 --- 2.0506245e-06\n",
            "2200 --- 1.8214544e-06\n",
            "2300 --- 1.5252562e-06\n",
            "2400 --- 1.0636472e-06\n",
            "2500 --- 1.1346472e-06\n",
            "2600 --- 8.5031587e-07\n",
            "2700 --- 7.8117245e-07\n",
            "2800 --- 6.3338393e-07\n",
            "2900 --- 5.484967e-07\n",
            "3000 --- 4.972267e-07\n",
            "3100 --- 4.599913e-07\n",
            "3200 --- 3.6929765e-07\n",
            "3300 --- 3.2850545e-07\n",
            "3400 --- 2.919395e-07\n",
            "3500 --- 2.699741e-07\n",
            "3600 --- 2.2285914e-07\n",
            "3700 --- 1.929633e-07\n",
            "3800 --- 1.9572984e-07\n",
            "3900 --- 1.8163604e-07\n",
            "4000 --- 1.2870585e-07\n",
            "4100 --- 1.4266026e-07\n",
            "4200 --- 1.1809156e-07\n",
            "4300 --- 1.1662397e-07\n",
            "4400 --- 9.617679e-08\n",
            "4500 --- 9.5509584e-08\n",
            "4600 --- 7.670721e-08\n",
            "4700 --- 8.172802e-08\n",
            "4800 --- 6.604569e-08\n",
            "4900 --- 6.466988e-08\n",
            "5000 --- 5.475164e-08\n",
            "Training with nesterov\n",
            "100 --- 0.7564342\n",
            "200 --- 0.15197462\n",
            "300 --- 0.03067538\n",
            "400 --- 0.0064477623\n",
            "500 --- 0.0016225744\n",
            "600 --- 0.00043484976\n",
            "700 --- 0.00014232365\n",
            "800 --- 5.5606528e-05\n",
            "900 --- 1.8178544e-05\n",
            "1000 --- 6.3377006e-06\n",
            "1100 --- 1.7809232e-06\n",
            "1200 --- 7.811766e-07\n",
            "1300 --- 8.2115065e-07\n",
            "1400 --- 4.775185e-07\n",
            "1500 --- 2.3306265e-07\n",
            "1600 --- 1.3392294e-07\n",
            "1700 --- 1.3329372e-07\n",
            "1800 --- 8.701597e-08\n",
            "1900 --- 4.3772054e-08\n",
            "2000 --- 3.9024854e-08\n",
            "2100 --- 2.9580782e-08\n",
            "2200 --- 2.0212044e-08\n",
            "2300 --- 1.6388071e-08\n",
            "2400 --- 1.0933741e-08\n",
            "2500 --- 9.319508e-09\n",
            "2600 --- 7.442174e-09\n",
            "2700 --- 5.298599e-09\n",
            "2800 --- 4.4936694e-09\n",
            "2900 --- 3.5637928e-09\n",
            "3000 --- 2.666319e-09\n",
            "3100 --- 2.253471e-09\n",
            "3200 --- 2.084128e-09\n",
            "3300 --- 1.4121173e-09\n",
            "3400 --- 1.0924103e-09\n",
            "3500 --- 1.1630732e-09\n",
            "3600 --- 9.2335817e-10\n",
            "3700 --- 6.610307e-10\n",
            "3800 --- 5.5065863e-10\n",
            "3900 --- 5.0900506e-10\n",
            "4000 --- 5.4385335e-10\n",
            "4100 --- 3.2439954e-10\n",
            "4200 --- 2.2047915e-10\n",
            "4300 --- 3.1781636e-10\n",
            "4400 --- 3.2152347e-10\n",
            "4500 --- 1.1048939e-10\n",
            "4600 --- 1.4247678e-10\n",
            "4700 --- 2.1166253e-10\n",
            "4800 --- 1.3932361e-10\n",
            "4900 --- 7.314095e-11\n",
            "5000 --- 9.339304e-11\n",
            "Training with nesterov\n",
            "100 --- 0.8858832\n",
            "200 --- 0.21191552\n",
            "300 --- 0.052456927\n",
            "400 --- 0.012688745\n",
            "500 --- 0.003242184\n",
            "600 --- 0.000935883\n",
            "700 --- 0.0003094205\n",
            "800 --- 0.000122012585\n",
            "900 --- 5.181597e-05\n",
            "1000 --- 1.9707943e-05\n",
            "1100 --- 6.075455e-06\n",
            "1200 --- 1.1209243e-06\n",
            "1300 --- 1.6031014e-07\n",
            "1400 --- 1.9198683e-07\n",
            "1500 --- 1.5118768e-07\n",
            "1600 --- 7.481915e-08\n",
            "1700 --- 2.8814375e-08\n",
            "1800 --- 1.887059e-08\n",
            "1900 --- 1.6417408e-08\n",
            "2000 --- 1.0769068e-08\n",
            "2100 --- 4.861838e-09\n",
            "2200 --- 3.622832e-09\n",
            "2300 --- 3.0151577e-09\n",
            "2400 --- 2.2678412e-09\n",
            "2500 --- 1.3950441e-09\n",
            "2600 --- 8.124415e-10\n",
            "2700 --- 6.80431e-10\n",
            "2800 --- 7.205116e-10\n",
            "2900 --- 3.858127e-10\n",
            "3000 --- 2.145575e-10\n",
            "3100 --- 2.4790284e-10\n",
            "3200 --- 2.1288074e-10\n",
            "3300 --- 1.2526809e-10\n",
            "3400 --- 9.823362e-11\n",
            "3500 --- 7.344811e-11\n",
            "3600 --- 7.2439534e-11\n",
            "3700 --- 6.2399474e-11\n",
            "3800 --- 3.087282e-11\n",
            "3900 --- 2.9483156e-11\n",
            "4000 --- 3.0721023e-11\n",
            "4100 --- 2.319593e-11\n",
            "4200 --- 1.7490965e-11\n",
            "4300 --- 1.0049693e-11\n",
            "4400 --- 1.1890169e-11\n",
            "4500 --- 1.3620958e-11\n",
            "4600 --- 7.320809e-12\n",
            "4700 --- 3.3675322e-12\n",
            "4800 --- 6.648356e-12\n",
            "4900 --- 6.7827462e-12\n",
            "5000 --- 2.8882784e-12\n",
            "time spent:  1226.9280803203583\n"
          ],
          "name": "stdout"
        }
      ]
    },
    {
      "cell_type": "code",
      "metadata": {
        "id": "05vwtdtNTmne"
      },
      "source": [
        "nag_loss0 = torch.load(path+f\"{'0.0001nesterov_2'}.pt\")\n",
        "nag_loss1 = torch.load(path+f\"{'0.0001nesterov_3'}.pt\")\n",
        "nag_loss2 = torch.load(path+f\"{'0.0001nesterov_6'}.pt\")\n",
        "nag_loss3 = torch.load(path+f\"{'0.0001nesterov_8'}.pt\")\n",
        "gd_loss = torch.load(path+f\"{'0.0001gd'}.pt\")"
      ],
      "execution_count": 22,
      "outputs": []
    },
    {
      "cell_type": "code",
      "metadata": {
        "id": "bOSV74gZKoJB",
        "outputId": "e545430e-63c1-4b9f-988d-710b5b333b5f",
        "colab": {
          "base_uri": "https://localhost:8080/",
          "height": 288
        }
      },
      "source": [
        "#%%\n",
        "# plt.figure(figsize=(8,5))\n",
        "plt.xscale('log')\n",
        "plt.yscale('log')\n",
        "plt.plot(gd_loss, label='GD') #NAG08\n",
        "plt.plot(nag_loss0, label='d=2') #NAG02\n",
        "plt.plot(nag_loss1, label='d=3') #NAG03\n",
        "plt.plot(nag_loss2, label='d=6') #NAG06\n",
        "plt.plot(nag_loss3, label='d=8') #NAG08\n",
        "plt.xlabel('Log Epoch', fontsize=16)\n",
        "plt.ylabel('Log MSE', fontsize=16)\n",
        "plt.legend(fontsize=12)\n",
        "plt.savefig(path+'NAG_Epoch.pdf', bbox_inches = 'tight')\n",
        "plt.show()"
      ],
      "execution_count": 52,
      "outputs": [
        {
          "output_type": "display_data",
          "data": {
            "image/png": "[encoded data removed]",
            "text/plain": [
              "<Figure size 432x288 with 1 Axes>"
            ]
          },
          "metadata": {
            "tags": [],
            "needs_background": "light"
          }
        }
      ]
    },
    {
      "cell_type": "markdown",
      "metadata": {
        "id": "cdPSsEO1zww8"
      },
      "source": [
        "## Higher momentum"
      ]
    },
    {
      "cell_type": "code",
      "metadata": {
        "id": "5KpCtPPBEfCt",
        "outputId": "1aaf2d15-0ff6-41c8-e23b-847ac4df5651",
        "colab": {
          "base_uri": "https://localhost:8080/",
          "height": 1000
        }
      },
      "source": [
        "hm_loss0=NTK_torch(opt_name='higherm_0202',hidden_neuron=3000,epochs=5000,lr=1e-4,momentum=0.2, momentum2=0.2, save=True)\n",
        "hm_loss1=NTK_torch(opt_name='higherm_0205',hidden_neuron=3000,epochs=5000,lr=1e-4,momentum=0.2, momentum2=0.5, save=True)\n",
        "hm_loss2=NTK_torch(opt_name='higherm_0208',hidden_neuron=3000,epochs=5000,lr=1e-4,momentum=0.2, momentum2=0.8, save=True)"
      ],
      "execution_count": 8,
      "outputs": [
        {
          "output_type": "stream",
          "text": [
            "Training with higher momentum\n",
            "100 --- 1.8374466\n",
            "200 --- 1.3382971\n",
            "300 --- 1.0604175\n",
            "400 --- 0.87833273\n",
            "500 --- 0.747504\n",
            "600 --- 0.6484427\n",
            "700 --- 0.5708051\n",
            "800 --- 0.5077481\n",
            "900 --- 0.45524406\n",
            "1000 --- 0.41096342\n",
            "1100 --- 0.37300184\n",
            "1200 --- 0.34014538\n",
            "1300 --- 0.31147093\n",
            "1400 --- 0.28624493\n",
            "1500 --- 0.26390016\n",
            "1600 --- 0.24405877\n",
            "1700 --- 0.22630285\n",
            "1800 --- 0.21031246\n",
            "1900 --- 0.1958844\n",
            "2000 --- 0.18283905\n",
            "2100 --- 0.17095341\n",
            "2200 --- 0.16008618\n",
            "2300 --- 0.15013613\n",
            "2400 --- 0.14100383\n",
            "2500 --- 0.13262014\n",
            "2600 --- 0.12489891\n",
            "2700 --- 0.1177718\n",
            "2800 --- 0.111188665\n",
            "2900 --- 0.10508095\n",
            "3000 --- 0.09940373\n",
            "3100 --- 0.09411887\n",
            "3200 --- 0.0892041\n",
            "3300 --- 0.08461946\n",
            "3400 --- 0.08033427\n",
            "3500 --- 0.076317\n",
            "3600 --- 0.07254326\n",
            "3700 --- 0.069009624\n",
            "3800 --- 0.06569563\n",
            "3900 --- 0.062591285\n",
            "4000 --- 0.059669405\n",
            "4100 --- 0.056920536\n",
            "4200 --- 0.05432718\n",
            "4300 --- 0.05187997\n",
            "4400 --- 0.049566217\n",
            "4500 --- 0.047385473\n",
            "4600 --- 0.045321904\n",
            "4700 --- 0.04336516\n",
            "4800 --- 0.04151695\n",
            "4900 --- 0.039767228\n",
            "5000 --- 0.03810713\n",
            "Training with higher momentum\n",
            "100 --- 1.7522966\n",
            "200 --- 1.2064309\n",
            "300 --- 0.9230843\n",
            "400 --- 0.74387956\n",
            "500 --- 0.61941177\n",
            "600 --- 0.52664083\n",
            "700 --- 0.45435402\n",
            "800 --- 0.3964691\n",
            "900 --- 0.34931493\n",
            "1000 --- 0.3102193\n",
            "1100 --- 0.2771469\n",
            "1200 --- 0.24902207\n",
            "1300 --- 0.22484484\n",
            "1400 --- 0.20383175\n",
            "1500 --- 0.1854868\n",
            "1600 --- 0.16935751\n",
            "1700 --- 0.15511566\n",
            "1800 --- 0.14243092\n",
            "1900 --- 0.131126\n",
            "2000 --- 0.120967284\n",
            "2100 --- 0.11183252\n",
            "2200 --- 0.1035863\n",
            "2300 --- 0.09611355\n",
            "2400 --- 0.08933473\n",
            "2500 --- 0.083165154\n",
            "2600 --- 0.07752256\n",
            "2700 --- 0.07236528\n",
            "2800 --- 0.06763714\n",
            "2900 --- 0.06329231\n",
            "3000 --- 0.059289947\n",
            "3100 --- 0.055602856\n",
            "3200 --- 0.052209\n",
            "3300 --- 0.049070626\n",
            "3400 --- 0.046166524\n",
            "3500 --- 0.043468032\n",
            "3600 --- 0.04096496\n",
            "3700 --- 0.038630195\n",
            "3800 --- 0.036451854\n",
            "3900 --- 0.03441975\n",
            "4000 --- 0.03252602\n",
            "4100 --- 0.030759118\n",
            "4200 --- 0.029109946\n",
            "4300 --- 0.027567597\n",
            "4400 --- 0.026126646\n",
            "4500 --- 0.024775194\n",
            "4600 --- 0.02351046\n",
            "4700 --- 0.022323163\n",
            "4800 --- 0.021208933\n",
            "4900 --- 0.020162703\n",
            "5000 --- 0.01917953\n",
            "Training with higher momentum\n",
            "100 --- 2.7844458\n",
            "200 --- 1.5917996\n",
            "300 --- 1.1433785\n",
            "400 --- 0.8573539\n",
            "500 --- 0.6962824\n",
            "600 --- 0.5805032\n",
            "700 --- 0.4912752\n",
            "800 --- 0.43471223\n",
            "900 --- 0.39751193\n",
            "1000 --- 0.36572418\n",
            "1100 --- 0.31283653\n",
            "1200 --- 0.26972568\n",
            "1300 --- 0.24222729\n",
            "1400 --- 0.21290961\n",
            "1500 --- 0.19254486\n",
            "1600 --- 0.1773263\n",
            "1700 --- 0.16669953\n",
            "1800 --- 0.14961599\n",
            "1900 --- 0.12986647\n",
            "2000 --- 0.12593035\n",
            "2100 --- 0.13355474\n",
            "2200 --- 0.12105479\n",
            "2300 --- 0.10736911\n",
            "2400 --- 0.10626356\n",
            "2500 --- 0.10848946\n",
            "2600 --- 0.09127303\n",
            "2700 --- 0.08721034\n",
            "2800 --- 0.08632851\n",
            "2900 --- 0.09315861\n",
            "3000 --- 0.08929046\n",
            "3100 --- 0.08272592\n",
            "3200 --- 0.07474054\n",
            "3300 --- 0.06531465\n",
            "3400 --- 0.06555457\n",
            "3500 --- 0.06620653\n",
            "3600 --- 0.060910873\n",
            "3700 --- 0.06321607\n",
            "3800 --- 1692.147\n",
            "3900 --- 5.9472237\n",
            "4000 --- 4.709904\n",
            "4100 --- 2.9276023\n",
            "4200 --- 2.7545428\n",
            "4300 --- 1.8178673\n",
            "4400 --- 1.9754139\n",
            "4500 --- 2.0023532\n",
            "4600 --- 1.2804366\n",
            "4700 --- 1.2683475\n",
            "4800 --- 1.1399049\n",
            "4900 --- 1.008863\n",
            "5000 --- 1.0333911\n"
          ],
          "name": "stdout"
        }
      ]
    },
    {
      "cell_type": "code",
      "metadata": {
        "id": "4gWFQMEzFjcq"
      },
      "source": [
        "hm_loss0 = torch.load(path+f\"{'0.0001higherm_0202'}.pt\")\n",
        "hm_loss1 = torch.load(path+f\"{'0.0001higherm_0205'}.pt\")\n",
        "hm_loss2 = torch.load(path+f\"{'0.0001higherm_0208'}.pt\")"
      ],
      "execution_count": 53,
      "outputs": []
    },
    {
      "cell_type": "code",
      "metadata": {
        "id": "95rEsq6034Zz",
        "outputId": "ffbbdb07-8bb4-475f-e308-7c5723b147b3",
        "colab": {
          "base_uri": "https://localhost:8080/",
          "height": 285
        }
      },
      "source": [
        "#%%\n",
        "plt.yscale('log')\n",
        "plt.plot(hm_loss0, label=r'$\\beta_1=0.2, \\beta_2=0.2$') #HM0202\n",
        "plt.plot(hm_loss1, label=r'$\\beta_1=0.2, \\beta_2=0.5$') #HM0205\n",
        "#plt.plot(hm_loss2, label='HM0208')\n",
        "plt.plot(hb_loss0, label=r'$\\beta_1=0.2, \\beta_2=0$') #HB02\n",
        "plt.xlabel('Epoch',fontsize=16)\n",
        "plt.ylabel('Log MSE',fontsize=16)\n",
        "plt.legend(fontsize=12)\n",
        "plt.savefig(path+'HM.pdf', bbox_inches = 'tight')\n",
        "plt.show()"
      ],
      "execution_count": 54,
      "outputs": [
        {
          "output_type": "display_data",
          "data": {
            "image/png": "[encoded data removed]",
            "text/plain": [
              "<Figure size 432x288 with 1 Axes>"
            ]
          },
          "metadata": {
            "tags": [],
            "needs_background": "light"
          }
        }
      ]
    },
    {
      "cell_type": "code",
      "metadata": {
        "id": "uYNmLpilFM4N"
      },
      "source": [
        ""
      ],
      "execution_count": null,
      "outputs": []
    }
  ]
}